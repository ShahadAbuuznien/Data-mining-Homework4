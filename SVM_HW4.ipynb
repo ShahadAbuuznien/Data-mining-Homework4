{
  "nbformat": 4,
  "nbformat_minor": 0,
  "metadata": {
    "colab": {
      "provenance": [],
      "mount_file_id": "1XEivoVmjkEfGGAstA6u2-k3S3e_Jt7Rx",
      "authorship_tag": "ABX9TyOjg0EjAREBM5TDiuz8TD2s",
      "include_colab_link": true
    },
    "kernelspec": {
      "name": "python3",
      "display_name": "Python 3"
    },
    "language_info": {
      "name": "python"
    }
  },
  "cells": [
    {
      "cell_type": "markdown",
      "metadata": {
        "id": "view-in-github",
        "colab_type": "text"
      },
      "source": [
        "<a href=\"https://colab.research.google.com/github/ShahadAbuuznien/Data-mining-Homework4/blob/main/SVM_HW4.ipynb\" target=\"_parent\"><img src=\"https://colab.research.google.com/assets/colab-badge.svg\" alt=\"Open In Colab\"/></a>"
      ]
    },
    {
      "cell_type": "code",
      "execution_count": null,
      "metadata": {
        "colab": {
          "base_uri": "https://localhost:8080/"
        },
        "id": "dZK259WymQCP",
        "outputId": "bbdea241-b74e-4354-f7ed-2e11073997b1"
      },
      "outputs": [
        {
          "output_type": "stream",
          "name": "stdout",
          "text": [
            "['tested_positive' 'tested_positive' 'tested_negative' 'tested_negative'\n",
            " 'tested_negative']\n"
          ]
        }
      ],
      "source": [
        "from sklearn import svm\n",
        "import pandas as pd\n",
        "import numpy as np\n",
        "\n",
        "c = 1e+03\n",
        "gama = 1e-05\n",
        "clf = svm.SVC(C=c , gamma= gama , kernel = 'rbf' , probability =True)\n",
        "\n",
        "train = pd.read_csv('/content/drive/MyDrive/Copy of diabetes_train.csv')\n",
        "test_data = train.tail(10)\n",
        "train_data = train[:-10]\n",
        "clf = clf.fit(train_data.iloc[:, :-1], train_data.iloc[:, -1])\n",
        "y_pred = clf.predict(test_data.iloc[:, :-1])\n",
        "print(y_pred[:5])"
      ]
    }
  ]
}